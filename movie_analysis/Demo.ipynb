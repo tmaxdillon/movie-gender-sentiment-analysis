{
 "cells": [
  {
   "cell_type": "code",
   "execution_count": 1,
   "metadata": {},
   "outputs": [],
   "source": [
    "# Run \"create_subset_demo\" notebook first."
   ]
  },
  {
   "cell_type": "code",
   "execution_count": 58,
   "metadata": {},
   "outputs": [],
   "source": [
    "import pandas as pd\n",
    "import numpy as np\n",
    "import matplotlib\n",
    "import matplotlib.pyplot as plt\n",
    "from get_YT_URL import get_first_trailerURL\n",
    "from comment_downloader import * \n",
    "import diversity_score_module as dv\n",
    "import plot_functions as pf\n",
    "import get_sentiment_score as gss\n",
    "from comment_downloader import download_from_list"
   ]
  },
  {
   "cell_type": "code",
   "execution_count": 64,
   "metadata": {},
   "outputs": [],
   "source": [
    "GDS_JohnCarter = np.array([0.495550])"
   ]
  },
  {
   "cell_type": "code",
   "execution_count": 40,
   "metadata": {},
   "outputs": [
    {
     "data": {
      "text/plain": [
       "'https://www.youtube.com/watch?v=pcV7aXL8txU'"
      ]
     },
     "execution_count": 40,
     "metadata": {},
     "output_type": "execute_result"
    }
   ],
   "source": [
    "# Grab the link from YouTube\n",
    "link = get_first_trailerURL(\"John Carter\")\n",
    "link"
   ]
  },
  {
   "cell_type": "code",
   "execution_count": 16,
   "metadata": {},
   "outputs": [
    {
     "name": "stdout",
     "output_type": "stream",
     "text": [
      "Downloading Youtube comments for video: pcV7aXL8txU\n",
      "\n",
      "Done!\n"
     ]
    }
   ],
   "source": [
    "# Download the comments:\n",
    "df = pd.DataFrame({'movie_id': ['2435'], 'youtube_id':['pcV7aXL8txU']})\n",
    "comments = download_from_list(df)"
   ]
  },
  {
   "cell_type": "code",
   "execution_count": 53,
   "metadata": {},
   "outputs": [],
   "source": [
    "# Calculate the sentiment of the YouTube comments on \"John Carter\":\n",
    "gss.data_path = \"data/demo\"\n",
    "ss = gss.get_sentiment_score()"
   ]
  },
  {
   "cell_type": "code",
   "execution_count": 68,
   "metadata": {},
   "outputs": [
    {
     "data": {
      "image/png": "[encoded data removed]",
      "text/plain": [
       "<Figure size 432x288 with 1 Axes>"
      ]
     },
     "metadata": {
      "needs_background": "light"
     },
     "output_type": "display_data"
    }
   ],
   "source": [
    "SS_JohnCarter = np.array(ss['sentiment_score'])\n",
    "# Plot the score with our original data:\n",
    "%matplotlib inline\n",
    "FULL_DF = pd.read_csv('data/imdb_subset_100_10strats')\n",
    "GDS = FULL_DF['gender diversity score']\n",
    "SS = FULL_DF['sentiment_score']\n",
    "plt.scatter(GDS, SS)\n",
    "plt.scatter(GDS_JohnCarter, SS_JohnCarter,c='r')\n",
    "plt.show()"
   ]
  },
  {
   "cell_type": "code",
   "execution_count": null,
   "metadata": {},
   "outputs": [],
   "source": []
  }
 ],
 "metadata": {
  "kernelspec": {
   "display_name": "Python 3",
   "language": "python",
   "name": "python3"
  },
  "language_info": {
   "codemirror_mode": {
    "name": "ipython",
    "version": 3
   },
   "file_extension": ".py",
   "mimetype": "text/x-python",
   "name": "python",
   "nbconvert_exporter": "python",
   "pygments_lexer": "ipython3",
   "version": "3.6.6"
  }
 },
 "nbformat": 4,
 "nbformat_minor": 2
}
