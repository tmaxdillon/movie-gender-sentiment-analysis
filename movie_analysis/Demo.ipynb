{
 "cells": [
  {
   "cell_type": "code",
   "execution_count": 1,
   "metadata": {},
   "outputs": [],
   "source": [
    "# Run \"create_subset_demo\" notebook first."
   ]
  },
  {
   "cell_type": "code",
   "execution_count": 3,
   "metadata": {},
   "outputs": [
    {
     "name": "stderr",
     "output_type": "stream",
     "text": [
      "/Users/franzrac/Desktop/movie-gender-sentiment-analysis/movie_analysis/diversity_score_module.py:11: UserWarning: matplotlib.pyplot as already been imported, this call will have no effect.\n",
      "  import json\n",
      "/Users/franzrac/Desktop/movie-gender-sentiment-analysis/movie_analysis/plot_functions.py:6: UserWarning: matplotlib.pyplot as already been imported, this call will have no effect.\n",
      "  matplotlib.use('PS')\n"
     ]
    }
   ],
   "source": [
    "import pandas as pd\n",
    "import matplotlib.pyplot as plt\n",
    "from get_YT_URL import get_first_trailerURL\n",
    "from comment_downloader import * \n",
    "import diversity_score_module as dv\n",
    "#import get_sentiment_score as ss\n",
    "import plot_functions as pf\n",
    "from comment_downloader import download_from_list"
   ]
  },
  {
   "cell_type": "code",
   "execution_count": 4,
   "metadata": {},
   "outputs": [],
   "source": [
    "GDS_JohnCarter = 0.495550"
   ]
  },
  {
   "cell_type": "code",
   "execution_count": 6,
   "metadata": {},
   "outputs": [
    {
     "data": {
      "text/plain": [
       "'https://www.youtube.com/watch?v=pcV7aXL8txU'"
      ]
     },
     "execution_count": 6,
     "metadata": {},
     "output_type": "execute_result"
    }
   ],
   "source": [
    "# Grab the link from YouTube\n",
    "link = get_first_trailerURL(\"John Carter\")\n",
    "link"
   ]
  },
  {
   "cell_type": "code",
   "execution_count": null,
   "metadata": {},
   "outputs": [
    {
     "name": "stdout",
     "output_type": "stream",
     "text": [
      "Downloading Youtube comments for video: pcV7aXL8txU\n"
     ]
    }
   ],
   "source": [
    "# Download the comments:\n",
    "df = pd.DataFrame({'movie_id': ['2435'], 'youtube_id':['pcV7aXL8txU']})\n",
    "comments = download_from_list(df)"
   ]
  },
  {
   "cell_type": "code",
   "execution_count": null,
   "metadata": {},
   "outputs": [],
   "source": [
    "# Calculate the sentiment of the YouTube comments on \"John Carter\":\n",
    "john_carter_comments = pd.read_csv('data/movie_comments/49529.csv')"
   ]
  },
  {
   "cell_type": "code",
   "execution_count": null,
   "metadata": {},
   "outputs": [],
   "source": [
    "GDS_JohnCarter = 0.2\n",
    "SS_JohnCarter = 0.9\n",
    "\n",
    "# Plot the score with our original data:\n",
    "FULL_DF = pd.read_csv('data/imdb_subset_100_10strats')\n",
    "GDS = FULL_DF['gender diversity score']\n",
    "SS = FULL_DF['sentiment_score']\n",
    "pf.scatter_scores(GDS, SS, 'Figures/scatter.pdf')\n",
    "plt.plot(GDS_JohnCarter,SS_JohnCarter,'r')\n",
    "plt.show()"
   ]
  }
 ],
 "metadata": {
  "kernelspec": {
   "display_name": "Python 3",
   "language": "python",
   "name": "python3"
  },
  "language_info": {
   "codemirror_mode": {
    "name": "ipython",
    "version": 3
   },
   "file_extension": ".py",
   "mimetype": "text/x-python",
   "name": "python",
   "nbconvert_exporter": "python",
   "pygments_lexer": "ipython3",
   "version": "3.6.6"
  }
 },
 "nbformat": 4,
 "nbformat_minor": 2
}
